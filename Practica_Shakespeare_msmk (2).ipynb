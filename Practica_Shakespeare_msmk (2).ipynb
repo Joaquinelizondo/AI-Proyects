{
  "cells": [
    {
      "cell_type": "code",
      "execution_count": null,
      "metadata": {
        "id": "iyZXnmiAKP2m"
      },
      "outputs": [],
      "source": [
        "  # de https://raw.githubusercontent.com/fchollet/keras/master/examples/lstm_text_generation.py\n",
        "#\n",
        "# Example script to generate text from Nietzsche's writings.\n",
        "#\n",
        "# At least 20 epochs are required before the generated text\n",
        "# starts sounding coherent.\n",
        "#\n",
        "# It is recommended to run this script on GPU, as recurrent\n",
        "# networks are quite computationally intensive.\n",
        "#\n",
        "# If you try this script on new data, make sure your corpus\n",
        "# has at least ~100k characters. ~1M is better.\n",
        "\n",
        "\n",
        "from keras.models import Sequential\n",
        "from keras.layers import Dense, Activation, LSTM\n",
        "from tensorflow.keras.optimizers import Adam, SGD, RMSprop\n",
        "\n",
        "from keras.utils.data_utils import get_file\n",
        "import random\n",
        "import numpy as np\n",
        "import sys\n"
      ]
    },
    {
      "cell_type": "markdown",
      "metadata": {
        "id": "WcfTicWssXoE"
      },
      "source": [
        ""
      ]
    },
    {
      "cell_type": "code",
      "execution_count": null,
      "metadata": {
        "colab": {
          "base_uri": "https://localhost:8080/"
        },
        "id": "WS-94R19KP2t",
        "outputId": "76a8b7f2-26bd-46a1-86b1-17f9329fc9a6"
      },
      "outputs": [
        {
          "output_type": "stream",
          "name": "stdout",
          "text": [
            "corpus length: 5458198\n",
            "total different chars: 65\n",
            "['\\n', ' ', '!', '\"', '#', '%', '&', \"'\", '(', ')', '*', ',', '-', '.', '/', '0', '1', '2', '3', '4', '5', '6', '7', '8', '9', ':', ';', '<', '=', '>', '?', '@', '[', ']', '_', '`', 'a', 'b', 'c', 'd', 'e', 'f', 'g', 'h', 'i', 'j', 'k', 'l', 'm', 'n', 'o', 'p', 'q', 'r', 's', 't', 'u', 'v', 'w', 'x', 'y', 'z', '|', '}', '~']\n"
          ]
        }
      ],
      "source": [
        "#path = get_file('nietzsche.txt', origin='/content/shakespeare.txt')\n",
        "#text = open(path).read().lower()\n",
        "\n",
        "text = open('shakespeare.txt').read().lower()\n",
        "\n",
        "print('corpus length:', len(text))\n",
        "\n",
        "chars = sorted(list(set(text)))\n",
        "print('total different chars:', len(chars))\n",
        "print(chars)\n",
        "char2index = dict((c, i) for i, c in enumerate(chars))\n",
        "index2char = dict((i, c) for i, c in enumerate(chars))"
      ]
    },
    {
      "cell_type": "code",
      "execution_count": null,
      "metadata": {
        "colab": {
          "base_uri": "https://localhost:8080/"
        },
        "id": "w2Qk8sYzKP2x",
        "outputId": "a83970e8-13a0-4502-b366-e9621d6929b7"
      },
      "outputs": [
        {
          "output_type": "stream",
          "name": "stdout",
          "text": [
            "36\n",
            "5\n"
          ]
        }
      ],
      "source": [
        "print(char2index['a'])\n",
        "print(index2char[20])"
      ]
    },
    {
      "cell_type": "code",
      "execution_count": null,
      "metadata": {
        "colab": {
          "base_uri": "https://localhost:8080/"
        },
        "id": "UA45Dd3JKP20",
        "outputId": "8ee7ccc7-c30a-4046-8858-e13ec94a0ef3"
      },
      "outputs": [
        {
          "output_type": "stream",
          "name": "stdout",
          "text": [
            "number of sequences: 2729094\n",
            "\n",
            "['this is th', 'is is the ', ' is the 10', 's the 100t', 'the 100th ', 'e 100th et', '100th etex', '0th etext ', 'h etext fi', 'etext file']\n"
          ]
        }
      ],
      "source": [
        "# cut the text in semi-redundant sequences of maxlen characters\n",
        "maxlen = 10\n",
        "step = 2\n",
        "sentences = []\n",
        "next_chars = []\n",
        "for i in range(0, len(text) - maxlen, step):\n",
        "    sentences.append(text[i: i + maxlen])\n",
        "    next_chars.append(text[i + maxlen])\n",
        "print('number of sequences:', len(sentences))\n",
        "print()\n",
        "print(sentences[0:10])\n",
        "sentences = sentences[0:1000]"
      ]
    },
    {
      "cell_type": "code",
      "execution_count": null,
      "metadata": {
        "colab": {
          "base_uri": "https://localhost:8080/"
        },
        "id": "Xu3VfzEgKP24",
        "outputId": "6a54ec61-b9bc-411c-ee38-b915e9192159"
      },
      "outputs": [
        {
          "output_type": "stream",
          "name": "stdout",
          "text": [
            "Vectorization...\n"
          ]
        },
        {
          "output_type": "stream",
          "name": "stderr",
          "text": [
            "/usr/local/lib/python3.7/dist-packages/ipykernel_launcher.py:2: DeprecationWarning: `np.bool` is a deprecated alias for the builtin `bool`. To silence this warning, use `bool` by itself. Doing this will not modify any behavior and is safe. If you specifically wanted the numpy scalar type, use `np.bool_` here.\n",
            "Deprecated in NumPy 1.20; for more details and guidance: https://numpy.org/devdocs/release/1.20.0-notes.html#deprecations\n",
            "  \n",
            "/usr/local/lib/python3.7/dist-packages/ipykernel_launcher.py:3: DeprecationWarning: `np.bool` is a deprecated alias for the builtin `bool`. To silence this warning, use `bool` by itself. Doing this will not modify any behavior and is safe. If you specifically wanted the numpy scalar type, use `np.bool_` here.\n",
            "Deprecated in NumPy 1.20; for more details and guidance: https://numpy.org/devdocs/release/1.20.0-notes.html#deprecations\n",
            "  This is separate from the ipykernel package so we can avoid doing imports until\n"
          ]
        }
      ],
      "source": [
        "print('Vectorization...')\n",
        "X = np.zeros((len(sentences), maxlen, len(chars)), dtype=np.bool)\n",
        "y = np.zeros((len(sentences), len(chars)), dtype=np.bool)\n",
        "for i, sentence in enumerate(sentences):\n",
        "    for t, char in enumerate(sentence):\n",
        "        X[i, t, char2index[char]] = 1\n",
        "    y[i, char2index[next_chars[i]]] = 1"
      ]
    },
    {
      "cell_type": "code",
      "execution_count": null,
      "metadata": {
        "colab": {
          "base_uri": "https://localhost:8080/"
        },
        "id": "to5QMkDnKP27",
        "outputId": "3d66d263-0b23-4c0c-8042-1fc1efded1de"
      },
      "outputs": [
        {
          "output_type": "stream",
          "name": "stdout",
          "text": [
            "Build model...\n"
          ]
        }
      ],
      "source": [
        "# build the model: a single LSTM\n",
        "print('Build model...')\n",
        "model = Sequential()\n",
        "model.add(LSTM(128, input_shape=(maxlen, len(chars))))\n",
        "model.add(Dense(len(chars)))\n",
        "model.add(Activation('softmax'))\n",
        "\n",
        "optimizer = RMSprop(learning_rate=0.01)\n",
        "model.compile(loss='categorical_crossentropy', optimizer=optimizer)"
      ]
    },
    {
      "cell_type": "code",
      "execution_count": null,
      "metadata": {
        "colab": {
          "base_uri": "https://localhost:8080/",
          "height": 822
        },
        "id": "5pkQgWlqKP2_",
        "outputId": "c2936e12-7356-495e-bca7-a72b75d3ab85"
      },
      "outputs": [
        {
          "output_type": "stream",
          "name": "stdout",
          "text": [
            "Model: \"sequential\"\n",
            "_________________________________________________________________\n",
            " Layer (type)                Output Shape              Param #   \n",
            "=================================================================\n",
            " lstm (LSTM)                 (None, 128)               99328     \n",
            "                                                                 \n",
            " dense (Dense)               (None, 65)                8385      \n",
            "                                                                 \n",
            " activation (Activation)     (None, 65)                0         \n",
            "                                                                 \n",
            "=================================================================\n",
            "Total params: 107,713\n",
            "Trainable params: 107,713\n",
            "Non-trainable params: 0\n",
            "_________________________________________________________________\n"
          ]
        },
        {
          "output_type": "execute_result",
          "data": {
            "text/plain": [
              "<IPython.core.display.SVG object>"
            ],
            "image/svg+xml": "<svg height=\"405pt\" viewBox=\"0.00 0.00 368.00 304.00\" width=\"491pt\" xmlns=\"http://www.w3.org/2000/svg\" xmlns:xlink=\"http://www.w3.org/1999/xlink\">\n<g class=\"graph\" id=\"graph0\" transform=\"scale(1.3333 1.3333) rotate(0) translate(4 300)\">\n<title>G</title>\n<polygon fill=\"#ffffff\" points=\"-4,4 -4,-300 364,-300 364,4 -4,4\" stroke=\"transparent\"/>\n<!-- 140472770212688 -->\n<g class=\"node\" id=\"node1\">\n<title>140472770212688</title>\n<polygon fill=\"none\" points=\"0,-249.5 0,-295.5 360,-295.5 360,-249.5 0,-249.5\" stroke=\"#000000\"/>\n<text fill=\"#000000\" font-family=\"Times,serif\" font-size=\"14.00\" text-anchor=\"middle\" x=\"40\" y=\"-280.3\">lstm_input</text>\n<polyline fill=\"none\" points=\"0,-272.5 80,-272.5 \" stroke=\"#000000\"/>\n<text fill=\"#000000\" font-family=\"Times,serif\" font-size=\"14.00\" text-anchor=\"middle\" x=\"40\" y=\"-257.3\">InputLayer</text>\n<polyline fill=\"none\" points=\"80,-249.5 80,-295.5 \" stroke=\"#000000\"/>\n<text fill=\"#000000\" font-family=\"Times,serif\" font-size=\"14.00\" text-anchor=\"middle\" x=\"109\" y=\"-280.3\">input:</text>\n<polyline fill=\"none\" points=\"80,-272.5 138,-272.5 \" stroke=\"#000000\"/>\n<text fill=\"#000000\" font-family=\"Times,serif\" font-size=\"14.00\" text-anchor=\"middle\" x=\"109\" y=\"-257.3\">output:</text>\n<polyline fill=\"none\" points=\"138,-249.5 138,-295.5 \" stroke=\"#000000\"/>\n<text fill=\"#000000\" font-family=\"Times,serif\" font-size=\"14.00\" text-anchor=\"middle\" x=\"193.5\" y=\"-268.8\">[(None, 10, 65)]</text>\n<polyline fill=\"none\" points=\"249,-249.5 249,-295.5 \" stroke=\"#000000\"/>\n<text fill=\"#000000\" font-family=\"Times,serif\" font-size=\"14.00\" text-anchor=\"middle\" x=\"304.5\" y=\"-268.8\">[(None, 10, 65)]</text>\n</g>\n<!-- 140472770282896 -->\n<g class=\"node\" id=\"node2\">\n<title>140472770282896</title>\n<polygon fill=\"none\" points=\"28.5,-166.5 28.5,-212.5 331.5,-212.5 331.5,-166.5 28.5,-166.5\" stroke=\"#000000\"/>\n<text fill=\"#000000\" font-family=\"Times,serif\" font-size=\"14.00\" text-anchor=\"middle\" x=\"56.5\" y=\"-197.3\">lstm</text>\n<polyline fill=\"none\" points=\"28.5,-189.5 84.5,-189.5 \" stroke=\"#000000\"/>\n<text fill=\"#000000\" font-family=\"Times,serif\" font-size=\"14.00\" text-anchor=\"middle\" x=\"56.5\" y=\"-174.3\">LSTM</text>\n<polyline fill=\"none\" points=\"84.5,-166.5 84.5,-212.5 \" stroke=\"#000000\"/>\n<text fill=\"#000000\" font-family=\"Times,serif\" font-size=\"14.00\" text-anchor=\"middle\" x=\"113.5\" y=\"-197.3\">input:</text>\n<polyline fill=\"none\" points=\"84.5,-189.5 142.5,-189.5 \" stroke=\"#000000\"/>\n<text fill=\"#000000\" font-family=\"Times,serif\" font-size=\"14.00\" text-anchor=\"middle\" x=\"113.5\" y=\"-174.3\">output:</text>\n<polyline fill=\"none\" points=\"142.5,-166.5 142.5,-212.5 \" stroke=\"#000000\"/>\n<text fill=\"#000000\" font-family=\"Times,serif\" font-size=\"14.00\" text-anchor=\"middle\" x=\"193.5\" y=\"-185.8\">(None, 10, 65)</text>\n<polyline fill=\"none\" points=\"244.5,-166.5 244.5,-212.5 \" stroke=\"#000000\"/>\n<text fill=\"#000000\" font-family=\"Times,serif\" font-size=\"14.00\" text-anchor=\"middle\" x=\"288\" y=\"-185.8\">(None, 128)</text>\n</g>\n<!-- 140472770212688&#45;&gt;140472770282896 -->\n<g class=\"edge\" id=\"edge1\">\n<title>140472770212688-&gt;140472770282896</title>\n<path d=\"M180,-249.3799C180,-241.1745 180,-231.7679 180,-222.8786\" fill=\"none\" stroke=\"#000000\"/>\n<polygon fill=\"#000000\" points=\"183.5001,-222.784 180,-212.784 176.5001,-222.784 183.5001,-222.784\" stroke=\"#000000\"/>\n</g>\n<!-- 140472770281552 -->\n<g class=\"node\" id=\"node3\">\n<title>140472770281552</title>\n<polygon fill=\"none\" points=\"41.5,-83.5 41.5,-129.5 318.5,-129.5 318.5,-83.5 41.5,-83.5\" stroke=\"#000000\"/>\n<text fill=\"#000000\" font-family=\"Times,serif\" font-size=\"14.00\" text-anchor=\"middle\" x=\"67.5\" y=\"-114.3\">dense</text>\n<polyline fill=\"none\" points=\"41.5,-106.5 93.5,-106.5 \" stroke=\"#000000\"/>\n<text fill=\"#000000\" font-family=\"Times,serif\" font-size=\"14.00\" text-anchor=\"middle\" x=\"67.5\" y=\"-91.3\">Dense</text>\n<polyline fill=\"none\" points=\"93.5,-83.5 93.5,-129.5 \" stroke=\"#000000\"/>\n<text fill=\"#000000\" font-family=\"Times,serif\" font-size=\"14.00\" text-anchor=\"middle\" x=\"122.5\" y=\"-114.3\">input:</text>\n<polyline fill=\"none\" points=\"93.5,-106.5 151.5,-106.5 \" stroke=\"#000000\"/>\n<text fill=\"#000000\" font-family=\"Times,serif\" font-size=\"14.00\" text-anchor=\"middle\" x=\"122.5\" y=\"-91.3\">output:</text>\n<polyline fill=\"none\" points=\"151.5,-83.5 151.5,-129.5 \" stroke=\"#000000\"/>\n<text fill=\"#000000\" font-family=\"Times,serif\" font-size=\"14.00\" text-anchor=\"middle\" x=\"195\" y=\"-102.8\">(None, 128)</text>\n<polyline fill=\"none\" points=\"238.5,-83.5 238.5,-129.5 \" stroke=\"#000000\"/>\n<text fill=\"#000000\" font-family=\"Times,serif\" font-size=\"14.00\" text-anchor=\"middle\" x=\"278.5\" y=\"-102.8\">(None, 65)</text>\n</g>\n<!-- 140472770282896&#45;&gt;140472770281552 -->\n<g class=\"edge\" id=\"edge2\">\n<title>140472770282896-&gt;140472770281552</title>\n<path d=\"M180,-166.3799C180,-158.1745 180,-148.7679 180,-139.8786\" fill=\"none\" stroke=\"#000000\"/>\n<polygon fill=\"#000000\" points=\"183.5001,-139.784 180,-129.784 176.5001,-139.784 183.5001,-139.784\" stroke=\"#000000\"/>\n</g>\n<!-- 140472774211920 -->\n<g class=\"node\" id=\"node4\">\n<title>140472774211920</title>\n<polygon fill=\"none\" points=\"32.5,-.5 32.5,-46.5 327.5,-46.5 327.5,-.5 32.5,-.5\" stroke=\"#000000\"/>\n<text fill=\"#000000\" font-family=\"Times,serif\" font-size=\"14.00\" text-anchor=\"middle\" x=\"71\" y=\"-31.3\">activation</text>\n<polyline fill=\"none\" points=\"32.5,-23.5 109.5,-23.5 \" stroke=\"#000000\"/>\n<text fill=\"#000000\" font-family=\"Times,serif\" font-size=\"14.00\" text-anchor=\"middle\" x=\"71\" y=\"-8.3\">Activation</text>\n<polyline fill=\"none\" points=\"109.5,-.5 109.5,-46.5 \" stroke=\"#000000\"/>\n<text fill=\"#000000\" font-family=\"Times,serif\" font-size=\"14.00\" text-anchor=\"middle\" x=\"138.5\" y=\"-31.3\">input:</text>\n<polyline fill=\"none\" points=\"109.5,-23.5 167.5,-23.5 \" stroke=\"#000000\"/>\n<text fill=\"#000000\" font-family=\"Times,serif\" font-size=\"14.00\" text-anchor=\"middle\" x=\"138.5\" y=\"-8.3\">output:</text>\n<polyline fill=\"none\" points=\"167.5,-.5 167.5,-46.5 \" stroke=\"#000000\"/>\n<text fill=\"#000000\" font-family=\"Times,serif\" font-size=\"14.00\" text-anchor=\"middle\" x=\"207.5\" y=\"-19.8\">(None, 65)</text>\n<polyline fill=\"none\" points=\"247.5,-.5 247.5,-46.5 \" stroke=\"#000000\"/>\n<text fill=\"#000000\" font-family=\"Times,serif\" font-size=\"14.00\" text-anchor=\"middle\" x=\"287.5\" y=\"-19.8\">(None, 65)</text>\n</g>\n<!-- 140472770281552&#45;&gt;140472774211920 -->\n<g class=\"edge\" id=\"edge3\">\n<title>140472770281552-&gt;140472774211920</title>\n<path d=\"M180,-83.3799C180,-75.1745 180,-65.7679 180,-56.8786\" fill=\"none\" stroke=\"#000000\"/>\n<polygon fill=\"#000000\" points=\"183.5001,-56.784 180,-46.784 176.5001,-56.784 183.5001,-56.784\" stroke=\"#000000\"/>\n</g>\n</g>\n</svg>"
          },
          "metadata": {},
          "execution_count": 7
        }
      ],
      "source": [
        "model.summary()\n",
        "from IPython.display import SVG\n",
        "from keras.utils.vis_utils import model_to_dot\n",
        "SVG(model_to_dot(model,show_shapes=True).create(prog='dot', format='svg'))"
      ]
    },
    {
      "cell_type": "code",
      "execution_count": null,
      "metadata": {
        "id": "tEWV7BRXKP3D"
      },
      "outputs": [],
      "source": [
        "def sample(preds, temperature=1.0):\n",
        "    # helper function to sample an index from a probability array\n",
        "    preds = np.asarray(preds).astype('float64')\n",
        "    preds = np.log(preds) / temperature\n",
        "    exp_preds = np.exp(preds)\n",
        "    preds = exp_preds / np.sum(exp_preds)\n",
        "    probas = np.random.multinomial(1, preds, 1)\n",
        "    return np.argmax(probas)\n",
        "  "
      ]
    },
    {
      "cell_type": "code",
      "execution_count": null,
      "metadata": {
        "colab": {
          "base_uri": "https://localhost:8080/"
        },
        "id": "oyV1Dw53KP3G",
        "outputId": "423a66a9-8273-46e3-9656-9671a4ddc69e"
      },
      "outputs": [
        {
          "output_type": "stream",
          "name": "stdout",
          "text": [
            "\n",
            "--------------------------------------------------\n",
            "Iteration 1\n",
            "Epoch 1/4\n",
            "8/8 [==============================] - 0s 31ms/step - loss: 0.1102\n",
            "Epoch 2/4\n",
            "8/8 [==============================] - 0s 33ms/step - loss: 0.0769\n",
            "Epoch 3/4\n",
            "8/8 [==============================] - 0s 31ms/step - loss: 0.0580\n",
            "Epoch 4/4\n",
            "8/8 [==============================] - 0s 34ms/step - loss: 0.0489\n",
            "\n",
            "--------------------------------------------------\n",
            "Iteration 2\n",
            "Epoch 1/4\n",
            "8/8 [==============================] - 0s 32ms/step - loss: 0.0451\n",
            "Epoch 2/4\n",
            "8/8 [==============================] - 0s 31ms/step - loss: 0.0446\n",
            "Epoch 3/4\n",
            "8/8 [==============================] - 0s 33ms/step - loss: 0.1306\n",
            "Epoch 4/4\n",
            "8/8 [==============================] - 0s 33ms/step - loss: 0.0488\n",
            "\n",
            "--------------------------------------------------\n",
            "Iteration 3\n",
            "Epoch 1/4\n",
            "8/8 [==============================] - 0s 32ms/step - loss: 0.0397\n",
            "Epoch 2/4\n",
            "8/8 [==============================] - 0s 31ms/step - loss: 0.0417\n",
            "Epoch 3/4\n",
            "8/8 [==============================] - 0s 32ms/step - loss: 0.0428\n",
            "Epoch 4/4\n",
            "8/8 [==============================] - 0s 32ms/step - loss: 0.0492\n",
            "\n",
            "--------------------------------------------------\n",
            "Iteration 4\n",
            "Epoch 1/4\n",
            "8/8 [==============================] - 0s 31ms/step - loss: 0.0787\n",
            "Epoch 2/4\n",
            "8/8 [==============================] - 0s 31ms/step - loss: 0.0988\n",
            "Epoch 3/4\n",
            "8/8 [==============================] - 0s 34ms/step - loss: 0.0387\n",
            "Epoch 4/4\n",
            "8/8 [==============================] - 0s 32ms/step - loss: 0.0343\n",
            "\n",
            "--------------------------------------------------\n",
            "Iteration 5\n",
            "Epoch 1/4\n",
            "8/8 [==============================] - 0s 30ms/step - loss: 0.0354\n",
            "Epoch 2/4\n",
            "8/8 [==============================] - 0s 31ms/step - loss: 0.0332\n",
            "Epoch 3/4\n",
            "8/8 [==============================] - 0s 33ms/step - loss: 0.0388\n",
            "Epoch 4/4\n",
            "8/8 [==============================] - 0s 33ms/step - loss: 0.1053\n"
          ]
        }
      ],
      "source": [
        "# train the model, output generated text after each iteration\n",
        "for iteration in range(1, 6):\n",
        "    print()\n",
        "    print('-' * 50)\n",
        "    print('Iteration', iteration)\n",
        "    model.fit(X, y,\n",
        "              batch_size=128,\n",
        "              epochs=4)"
      ]
    },
    {
      "cell_type": "code",
      "execution_count": null,
      "metadata": {
        "id": "jV4lW2JUKP3M"
      },
      "outputs": [],
      "source": [
        "model.save('shakespeare_modelo.h5')"
      ]
    },
    {
      "cell_type": "code",
      "execution_count": null,
      "metadata": {
        "colab": {
          "base_uri": "https://localhost:8080/",
          "height": 200
        },
        "id": "wIQekkqbKP3O",
        "outputId": "d8c984f6-076d-4049-e31b-cb0ff6e780b4"
      },
      "outputs": [
        {
          "output_type": "stream",
          "name": "stdout",
          "text": [
            "tter, shak\n"
          ]
        },
        {
          "output_type": "error",
          "ename": "NameError",
          "evalue": "ignored",
          "traceback": [
            "\u001b[0;31m---------------------------------------------------------------------------\u001b[0m",
            "\u001b[0;31mNameError\u001b[0m                                 Traceback (most recent call last)",
            "\u001b[0;32m<ipython-input-13-a3e20632f65c>\u001b[0m in \u001b[0;36m<module>\u001b[0;34m()\u001b[0m\n\u001b[1;32m      1\u001b[0m \u001b[0mprint\u001b[0m\u001b[0;34m(\u001b[0m\u001b[0msentence\u001b[0m\u001b[0;34m)\u001b[0m\u001b[0;34m\u001b[0m\u001b[0;34m\u001b[0m\u001b[0m\n\u001b[0;32m----> 2\u001b[0;31m \u001b[0mprint\u001b[0m\u001b[0;34m(\u001b[0m\u001b[0mgenerated\u001b[0m\u001b[0;34m)\u001b[0m\u001b[0;34m\u001b[0m\u001b[0;34m\u001b[0m\u001b[0m\n\u001b[0m",
            "\u001b[0;31mNameError\u001b[0m: name 'generated' is not defined"
          ]
        }
      ],
      "source": [
        "print(sentence)\n",
        "print(generated)"
      ]
    },
    {
      "cell_type": "code",
      "execution_count": null,
      "metadata": {
        "colab": {
          "base_uri": "https://localhost:8080/"
        },
        "id": "oOTdkZ5ZKP3S",
        "outputId": "bd6695b3-1fa0-4ec4-9f6e-61b4b2788141"
      },
      "outputs": [
        {
          "output_type": "stream",
          "name": "stdout",
          "text": [
            "\n",
            "----- diversity: 0.2\n",
            "----- Generating with seed: \"          \"\n",
            "          furles domars aydon compreses, tin e branges ay bras corr on or oilliam\n",
            "shakespeare\n",
            "\n",
            "** texts rea as ancourary\n",
            "\n",
            "f thes rllliar\n",
            "shakespeare\n",
            "\n",
            "**  ores rlewico inncardused bur ioncois corg inctrdunees iblary\n",
            "shakespeare\n",
            "\n",
            "** wollinedin comparston ondetarg inc., ard iof riblis dof ase nearin compeestedwof ionlliam\n",
            "shakespeare\n",
            "\n",
            "** wollinedin comparses, thy for your raas sour iol corguted et arg presente\n",
            "\n",
            "----- diversity: 0.5\n",
            "----- Generating with seed: \"          \"\n",
            "          frrlewndory**\n",
            "\n",
            "**\n",
            "thets world library*in libers of ome futs sharewnale ay braa s. araanes. .\n",
            "\n",
            "thes follis cor mof william shakespeare\n",
            "\n",
            "** texts rea as coplion of arelate unelicerginncoprarg soma tedis ayeberlatext inec.t, bete iof ionliondoncorgetiow villis inllibras corkes akese cer anccoudarg\n",
            "\n",
            "in erlinedibl complited of tom lllarais coprary and by ary arlis aresentarion.eo \n",
            "rewovg oue eses of vu\n",
            "\n",
            "----- diversity: 1.0\n",
            "----- Generating with seed: \"          \"\n",
            "          frrasoff rutedted erk nylin are hellin as cerladedowillllian *, ares ellarans.and.\n",
            "\n",
            "*hes shes ayllbllis in cergatict phesed bu ancourais coadg\n",
            "in incel thaks (ara\n",
            "tha mphasinncora\n",
            "s\n",
            "corimpllibediby of ellliam1s, akespeere\n",
            "\n",
            "** hes myserarins of andune \n",
            "\n",
            "jerais coupargess of william shakespeare \n",
            "s prevedutibnary\n",
            "shrkspe wurldomec. 1raananere\n",
            "\n",
            "*wg villiaris preject 1uza ber iof ine teatang ioparyeate\n",
            "\n",
            "----- diversity: 1.2\n",
            "----- Generating with seed: \"          \"\n",
            "          furllbrary of is  ellis corld mebt oy (opars on ouilecerg inlindes ay .haratectand eotarldis asedellioncof villiim\n",
            "ii .ioncompoasiuneoisecorg\n",
            "s, gelliou aallis in trdes mybtady futg ted libeary.\n",
            "\n",
            "torevore tot mases alewnyounand and foralliaais co#parges\n",
            " omp.ettres molllurain.copitinnedibythaks.... prares inf libers\n",
            "shes of ourleames eof llllits s yoatewnd buced innariwn oy any*,\n",
            "as cord yof wurld\n"
          ]
        }
      ],
      "source": [
        "start_index = random.randint(0, len(text) - maxlen - 1)\n",
        "seed = text[start_index: start_index + maxlen]\n",
        "\n",
        "seed = maxlen*\" \"\n",
        "\n",
        "for diversity in [0.2, 0.5, 1.0, 1.2]:\n",
        "    print()\n",
        "    print('----- diversity:', diversity)\n",
        "\n",
        "    generated = ''\n",
        "    sentence = seed\n",
        "    generated += sentence\n",
        "    print('----- Generating with seed: \"' + sentence + '\"')\n",
        "    sys.stdout.write(generated)\n",
        "\n",
        "    for i in range(400):\n",
        "        x = np.zeros((1, maxlen, len(chars)))\n",
        "        for t, char in enumerate(sentence):\n",
        "            x[0, t, char2index[char]] = 1.\n",
        "\n",
        "        preds = model.predict(x, verbose=0)[0]\n",
        "        next_index = sample(preds, diversity)\n",
        "        next_char = index2char[next_index]\n",
        "\n",
        "        generated += next_char\n",
        "        sentence = sentence[1:] + next_char\n",
        "\n",
        "        sys.stdout.write(next_char)\n",
        "        sys.stdout.flush()\n",
        "    print()"
      ]
    },
    {
      "cell_type": "code",
      "execution_count": null,
      "metadata": {
        "colab": {
          "background_save": true
        },
        "id": "tYHbWHj8KP3W"
      },
      "outputs": [],
      "source": [
        ""
      ]
    }
  ],
  "metadata": {
    "colab": {
      "name": "Practica Shakespeare_msmk.ipynb",
      "provenance": []
    },
    "kernelspec": {
      "display_name": "Python 3",
      "language": "python",
      "name": "python3"
    },
    "language_info": {
      "codemirror_mode": {
        "name": "ipython",
        "version": 3
      },
      "file_extension": ".py",
      "mimetype": "text/x-python",
      "name": "python",
      "nbconvert_exporter": "python",
      "pygments_lexer": "ipython3",
      "version": "3.6.5"
    }
  },
  "nbformat": 4,
  "nbformat_minor": 0
}